{
  "nbformat": 4,
  "nbformat_minor": 0,
  "metadata": {
    "colab": {
      "name": "CFTSRS.ipynb",
      "provenance": [],
      "authorship_tag": "ABX9TyNNmtYcRllrTiCaVW23KXKf",
      "include_colab_link": true
    },
    "kernelspec": {
      "name": "python3",
      "display_name": "Python 3"
    },
    "language_info": {
      "name": "python"
    },
    "widgets": {
      "application/vnd.jupyter.widget-state+json": {
        "7c7eb1049fdf456f83dd3ca88d8045a9": {
          "model_module": "@jupyter-widgets/controls",
          "model_name": "HBoxModel",
          "model_module_version": "1.5.0",
          "state": {
            "_dom_classes": [],
            "_model_module": "@jupyter-widgets/controls",
            "_model_module_version": "1.5.0",
            "_model_name": "HBoxModel",
            "_view_count": null,
            "_view_module": "@jupyter-widgets/controls",
            "_view_module_version": "1.5.0",
            "_view_name": "HBoxView",
            "box_style": "",
            "children": [
              "IPY_MODEL_a0058041b5b148889f5057f1a89c1184",
              "IPY_MODEL_8ac2ebf1edaf40a0a7c0532dd8e8ee21",
              "IPY_MODEL_f4f8ed20cfe44bfc9385501b82ab4fca"
            ],
            "layout": "IPY_MODEL_978ef221bb0c439b9508be597d32072b"
          }
        },
        "a0058041b5b148889f5057f1a89c1184": {
          "model_module": "@jupyter-widgets/controls",
          "model_name": "HTMLModel",
          "model_module_version": "1.5.0",
          "state": {
            "_dom_classes": [],
            "_model_module": "@jupyter-widgets/controls",
            "_model_module_version": "1.5.0",
            "_model_name": "HTMLModel",
            "_view_count": null,
            "_view_module": "@jupyter-widgets/controls",
            "_view_module_version": "1.5.0",
            "_view_name": "HTMLView",
            "description": "",
            "description_tooltip": null,
            "layout": "IPY_MODEL_d643959fc56d4cce99fb26bd442042ef",
            "placeholder": "​",
            "style": "IPY_MODEL_9305f29b00d64d82adc7a5cc1761a892",
            "value": "Pandas Apply: 100%"
          }
        },
        "8ac2ebf1edaf40a0a7c0532dd8e8ee21": {
          "model_module": "@jupyter-widgets/controls",
          "model_name": "FloatProgressModel",
          "model_module_version": "1.5.0",
          "state": {
            "_dom_classes": [],
            "_model_module": "@jupyter-widgets/controls",
            "_model_module_version": "1.5.0",
            "_model_name": "FloatProgressModel",
            "_view_count": null,
            "_view_module": "@jupyter-widgets/controls",
            "_view_module_version": "1.5.0",
            "_view_name": "ProgressView",
            "bar_style": "success",
            "description": "",
            "description_tooltip": null,
            "layout": "IPY_MODEL_79309834d97f4a7ca541e6c4a81d0bdb",
            "max": 11,
            "min": 0,
            "orientation": "horizontal",
            "style": "IPY_MODEL_0459dd89a11c494095a573f4526b51ad",
            "value": 11
          }
        },
        "f4f8ed20cfe44bfc9385501b82ab4fca": {
          "model_module": "@jupyter-widgets/controls",
          "model_name": "HTMLModel",
          "model_module_version": "1.5.0",
          "state": {
            "_dom_classes": [],
            "_model_module": "@jupyter-widgets/controls",
            "_model_module_version": "1.5.0",
            "_model_name": "HTMLModel",
            "_view_count": null,
            "_view_module": "@jupyter-widgets/controls",
            "_view_module_version": "1.5.0",
            "_view_name": "HTMLView",
            "description": "",
            "description_tooltip": null,
            "layout": "IPY_MODEL_d12f8e3dc8954e22a87be568ffa908de",
            "placeholder": "​",
            "style": "IPY_MODEL_d987287747284433b16fd4a086657107",
            "value": " 11/11 [00:00&lt;00:00, 172.08it/s]"
          }
        },
        "978ef221bb0c439b9508be597d32072b": {
          "model_module": "@jupyter-widgets/base",
          "model_name": "LayoutModel",
          "model_module_version": "1.2.0",
          "state": {
            "_model_module": "@jupyter-widgets/base",
            "_model_module_version": "1.2.0",
            "_model_name": "LayoutModel",
            "_view_count": null,
            "_view_module": "@jupyter-widgets/base",
            "_view_module_version": "1.2.0",
            "_view_name": "LayoutView",
            "align_content": null,
            "align_items": null,
            "align_self": null,
            "border": null,
            "bottom": null,
            "display": null,
            "flex": null,
            "flex_flow": null,
            "grid_area": null,
            "grid_auto_columns": null,
            "grid_auto_flow": null,
            "grid_auto_rows": null,
            "grid_column": null,
            "grid_gap": null,
            "grid_row": null,
            "grid_template_areas": null,
            "grid_template_columns": null,
            "grid_template_rows": null,
            "height": null,
            "justify_content": null,
            "justify_items": null,
            "left": null,
            "margin": null,
            "max_height": null,
            "max_width": null,
            "min_height": null,
            "min_width": null,
            "object_fit": null,
            "object_position": null,
            "order": null,
            "overflow": null,
            "overflow_x": null,
            "overflow_y": null,
            "padding": null,
            "right": null,
            "top": null,
            "visibility": null,
            "width": null
          }
        },
        "d643959fc56d4cce99fb26bd442042ef": {
          "model_module": "@jupyter-widgets/base",
          "model_name": "LayoutModel",
          "model_module_version": "1.2.0",
          "state": {
            "_model_module": "@jupyter-widgets/base",
            "_model_module_version": "1.2.0",
            "_model_name": "LayoutModel",
            "_view_count": null,
            "_view_module": "@jupyter-widgets/base",
            "_view_module_version": "1.2.0",
            "_view_name": "LayoutView",
            "align_content": null,
            "align_items": null,
            "align_self": null,
            "border": null,
            "bottom": null,
            "display": null,
            "flex": null,
            "flex_flow": null,
            "grid_area": null,
            "grid_auto_columns": null,
            "grid_auto_flow": null,
            "grid_auto_rows": null,
            "grid_column": null,
            "grid_gap": null,
            "grid_row": null,
            "grid_template_areas": null,
            "grid_template_columns": null,
            "grid_template_rows": null,
            "height": null,
            "justify_content": null,
            "justify_items": null,
            "left": null,
            "margin": null,
            "max_height": null,
            "max_width": null,
            "min_height": null,
            "min_width": null,
            "object_fit": null,
            "object_position": null,
            "order": null,
            "overflow": null,
            "overflow_x": null,
            "overflow_y": null,
            "padding": null,
            "right": null,
            "top": null,
            "visibility": null,
            "width": null
          }
        },
        "9305f29b00d64d82adc7a5cc1761a892": {
          "model_module": "@jupyter-widgets/controls",
          "model_name": "DescriptionStyleModel",
          "model_module_version": "1.5.0",
          "state": {
            "_model_module": "@jupyter-widgets/controls",
            "_model_module_version": "1.5.0",
            "_model_name": "DescriptionStyleModel",
            "_view_count": null,
            "_view_module": "@jupyter-widgets/base",
            "_view_module_version": "1.2.0",
            "_view_name": "StyleView",
            "description_width": ""
          }
        },
        "79309834d97f4a7ca541e6c4a81d0bdb": {
          "model_module": "@jupyter-widgets/base",
          "model_name": "LayoutModel",
          "model_module_version": "1.2.0",
          "state": {
            "_model_module": "@jupyter-widgets/base",
            "_model_module_version": "1.2.0",
            "_model_name": "LayoutModel",
            "_view_count": null,
            "_view_module": "@jupyter-widgets/base",
            "_view_module_version": "1.2.0",
            "_view_name": "LayoutView",
            "align_content": null,
            "align_items": null,
            "align_self": null,
            "border": null,
            "bottom": null,
            "display": null,
            "flex": null,
            "flex_flow": null,
            "grid_area": null,
            "grid_auto_columns": null,
            "grid_auto_flow": null,
            "grid_auto_rows": null,
            "grid_column": null,
            "grid_gap": null,
            "grid_row": null,
            "grid_template_areas": null,
            "grid_template_columns": null,
            "grid_template_rows": null,
            "height": null,
            "justify_content": null,
            "justify_items": null,
            "left": null,
            "margin": null,
            "max_height": null,
            "max_width": null,
            "min_height": null,
            "min_width": null,
            "object_fit": null,
            "object_position": null,
            "order": null,
            "overflow": null,
            "overflow_x": null,
            "overflow_y": null,
            "padding": null,
            "right": null,
            "top": null,
            "visibility": null,
            "width": null
          }
        },
        "0459dd89a11c494095a573f4526b51ad": {
          "model_module": "@jupyter-widgets/controls",
          "model_name": "ProgressStyleModel",
          "model_module_version": "1.5.0",
          "state": {
            "_model_module": "@jupyter-widgets/controls",
            "_model_module_version": "1.5.0",
            "_model_name": "ProgressStyleModel",
            "_view_count": null,
            "_view_module": "@jupyter-widgets/base",
            "_view_module_version": "1.2.0",
            "_view_name": "StyleView",
            "bar_color": null,
            "description_width": ""
          }
        },
        "d12f8e3dc8954e22a87be568ffa908de": {
          "model_module": "@jupyter-widgets/base",
          "model_name": "LayoutModel",
          "model_module_version": "1.2.0",
          "state": {
            "_model_module": "@jupyter-widgets/base",
            "_model_module_version": "1.2.0",
            "_model_name": "LayoutModel",
            "_view_count": null,
            "_view_module": "@jupyter-widgets/base",
            "_view_module_version": "1.2.0",
            "_view_name": "LayoutView",
            "align_content": null,
            "align_items": null,
            "align_self": null,
            "border": null,
            "bottom": null,
            "display": null,
            "flex": null,
            "flex_flow": null,
            "grid_area": null,
            "grid_auto_columns": null,
            "grid_auto_flow": null,
            "grid_auto_rows": null,
            "grid_column": null,
            "grid_gap": null,
            "grid_row": null,
            "grid_template_areas": null,
            "grid_template_columns": null,
            "grid_template_rows": null,
            "height": null,
            "justify_content": null,
            "justify_items": null,
            "left": null,
            "margin": null,
            "max_height": null,
            "max_width": null,
            "min_height": null,
            "min_width": null,
            "object_fit": null,
            "object_position": null,
            "order": null,
            "overflow": null,
            "overflow_x": null,
            "overflow_y": null,
            "padding": null,
            "right": null,
            "top": null,
            "visibility": null,
            "width": null
          }
        },
        "d987287747284433b16fd4a086657107": {
          "model_module": "@jupyter-widgets/controls",
          "model_name": "DescriptionStyleModel",
          "model_module_version": "1.5.0",
          "state": {
            "_model_module": "@jupyter-widgets/controls",
            "_model_module_version": "1.5.0",
            "_model_name": "DescriptionStyleModel",
            "_view_count": null,
            "_view_module": "@jupyter-widgets/base",
            "_view_module_version": "1.2.0",
            "_view_name": "StyleView",
            "description_width": ""
          }
        }
      }
    }
  },
  "cells": [
    {
      "cell_type": "markdown",
      "metadata": {
        "id": "view-in-github",
        "colab_type": "text"
      },
      "source": [
        "<a href=\"https://colab.research.google.com/github/erinaundamayanti/MyRepository/blob/main/CFTSRS.ipynb\" target=\"_parent\"><img src=\"https://colab.research.google.com/assets/colab-badge.svg\" alt=\"Open In Colab\"/></a>"
      ]
    },
    {
      "cell_type": "markdown",
      "source": [
        "### **LIBRARY YANG DIBUTUHKAN**"
      ],
      "metadata": {
        "id": "9IFP9uun7zRE"
      }
    },
    {
      "cell_type": "code",
      "execution_count": 1,
      "metadata": {
        "id": "z9Dce-Cf5Jwe"
      },
      "outputs": [],
      "source": [
        "import pandas as pd\n",
        "import numpy as np"
      ]
    },
    {
      "cell_type": "markdown",
      "source": [
        "Sebelum melakukan proses case folding adalah melakukan import library pandas dan numpy"
      ],
      "metadata": {
        "id": "SQbU8Ljd8SkR"
      }
    },
    {
      "cell_type": "code",
      "source": [
        "import string\n",
        "import re\n",
        "\n",
        "# import word tokenize & FreqDist from NLTK\n",
        "import nltk\n",
        "nltk.download('punkt')\n",
        "\n",
        "from nltk.tokenize import word_tokenize\n",
        "from nltk.probability import FreqDist"
      ],
      "metadata": {
        "colab": {
          "base_uri": "https://localhost:8080/"
        },
        "id": "MhslqNva5LY0",
        "outputId": "3c98bfb9-0240-41f2-82e6-ce01eabffb60"
      },
      "execution_count": 2,
      "outputs": [
        {
          "output_type": "stream",
          "name": "stderr",
          "text": [
            "[nltk_data] Downloading package punkt to /root/nltk_data...\n",
            "[nltk_data]   Package punkt is already up-to-date!\n"
          ]
        }
      ]
    },
    {
      "cell_type": "markdown",
      "source": [
        "*   Import module string dan re. Lalu import natural language toolkit\n",
        "*   Dalam library nltk mendownload package punkt\n",
        " *   Dari library nltk tokenize, melakukan import function word tokenize untuk melakukan tokenisasi sebuah string supaya memisahkan tanda baca selain titik\n",
        " *   Dan library nltk probability, melakukan import frequency distribution untuk melakukan perhitungan distribusi frekuensi semua kata dalam teks\n",
        "*   PIP adalah packet installer python\n",
        " *   Sastrawi adalah library python sederhana untuk mereduksi kata-kata dalam baha Indonesia kebentuk dasarnya\n",
        " *   Swifter adalah package yang mencoba menerapkan fungsi apapun secara efisien ke pandas untuk diterapkan kedalam bentuk data frame\n",
        "\n",
        "\n",
        "\n"
      ],
      "metadata": {
        "id": "C3wKntIJ8buJ"
      }
    },
    {
      "cell_type": "code",
      "source": [
        "# import Sastrawi package\n",
        "! pip install Sastrawi\n",
        "! pip install swifter"
      ],
      "metadata": {
        "colab": {
          "base_uri": "https://localhost:8080/"
        },
        "id": "zuWrhClB5O0l",
        "outputId": "6f2dc323-19fb-4746-98c9-d37258b56937"
      },
      "execution_count": 3,
      "outputs": [
        {
          "output_type": "stream",
          "name": "stdout",
          "text": [
            "Looking in indexes: https://pypi.org/simple, https://us-python.pkg.dev/colab-wheels/public/simple/\n",
            "Requirement already satisfied: Sastrawi in /usr/local/lib/python3.7/dist-packages (1.0.1)\n",
            "Looking in indexes: https://pypi.org/simple, https://us-python.pkg.dev/colab-wheels/public/simple/\n",
            "Requirement already satisfied: swifter in /usr/local/lib/python3.7/dist-packages (1.1.3)\n",
            "Requirement already satisfied: bleach>=3.1.1 in /usr/local/lib/python3.7/dist-packages (from swifter) (5.0.0)\n",
            "Requirement already satisfied: pandas>=1.0.0 in /usr/local/lib/python3.7/dist-packages (from swifter) (1.3.5)\n",
            "Requirement already satisfied: psutil>=5.6.6 in /usr/local/lib/python3.7/dist-packages (from swifter) (5.9.1)\n",
            "Requirement already satisfied: ipywidgets>=7.0.0 in /usr/local/lib/python3.7/dist-packages (from swifter) (7.7.0)\n",
            "Requirement already satisfied: tqdm>=4.33.0 in /usr/local/lib/python3.7/dist-packages (from swifter) (4.64.0)\n",
            "Requirement already satisfied: cloudpickle>=0.2.2 in /usr/local/lib/python3.7/dist-packages (from swifter) (1.3.0)\n",
            "Requirement already satisfied: dask[dataframe]>=2.10.0 in /usr/local/lib/python3.7/dist-packages (from swifter) (2.12.0)\n",
            "Requirement already satisfied: parso>0.4.0 in /usr/local/lib/python3.7/dist-packages (from swifter) (0.8.3)\n",
            "Requirement already satisfied: webencodings in /usr/local/lib/python3.7/dist-packages (from bleach>=3.1.1->swifter) (0.5.1)\n",
            "Requirement already satisfied: six>=1.9.0 in /usr/local/lib/python3.7/dist-packages (from bleach>=3.1.1->swifter) (1.15.0)\n",
            "Requirement already satisfied: partd>=0.3.10 in /usr/local/lib/python3.7/dist-packages (from dask[dataframe]>=2.10.0->swifter) (1.2.0)\n",
            "Requirement already satisfied: toolz>=0.7.3 in /usr/local/lib/python3.7/dist-packages (from dask[dataframe]>=2.10.0->swifter) (0.11.2)\n",
            "Requirement already satisfied: numpy>=1.13.0 in /usr/local/lib/python3.7/dist-packages (from dask[dataframe]>=2.10.0->swifter) (1.21.6)\n",
            "Requirement already satisfied: fsspec>=0.6.0 in /usr/local/lib/python3.7/dist-packages (from dask[dataframe]>=2.10.0->swifter) (2022.5.0)\n",
            "Requirement already satisfied: jupyterlab-widgets>=1.0.0 in /usr/local/lib/python3.7/dist-packages (from ipywidgets>=7.0.0->swifter) (1.1.0)\n",
            "Requirement already satisfied: traitlets>=4.3.1 in /usr/local/lib/python3.7/dist-packages (from ipywidgets>=7.0.0->swifter) (5.1.1)\n",
            "Requirement already satisfied: ipython>=4.0.0 in /usr/local/lib/python3.7/dist-packages (from ipywidgets>=7.0.0->swifter) (5.5.0)\n",
            "Requirement already satisfied: ipykernel>=4.5.1 in /usr/local/lib/python3.7/dist-packages (from ipywidgets>=7.0.0->swifter) (4.10.1)\n",
            "Requirement already satisfied: widgetsnbextension~=3.6.0 in /usr/local/lib/python3.7/dist-packages (from ipywidgets>=7.0.0->swifter) (3.6.0)\n",
            "Requirement already satisfied: nbformat>=4.2.0 in /usr/local/lib/python3.7/dist-packages (from ipywidgets>=7.0.0->swifter) (5.4.0)\n",
            "Requirement already satisfied: ipython-genutils~=0.2.0 in /usr/local/lib/python3.7/dist-packages (from ipywidgets>=7.0.0->swifter) (0.2.0)\n",
            "Requirement already satisfied: tornado>=4.0 in /usr/local/lib/python3.7/dist-packages (from ipykernel>=4.5.1->ipywidgets>=7.0.0->swifter) (5.1.1)\n",
            "Requirement already satisfied: jupyter-client in /usr/local/lib/python3.7/dist-packages (from ipykernel>=4.5.1->ipywidgets>=7.0.0->swifter) (5.3.5)\n",
            "Requirement already satisfied: setuptools>=18.5 in /usr/local/lib/python3.7/dist-packages (from ipython>=4.0.0->ipywidgets>=7.0.0->swifter) (57.4.0)\n",
            "Requirement already satisfied: decorator in /usr/local/lib/python3.7/dist-packages (from ipython>=4.0.0->ipywidgets>=7.0.0->swifter) (4.4.2)\n",
            "Requirement already satisfied: simplegeneric>0.8 in /usr/local/lib/python3.7/dist-packages (from ipython>=4.0.0->ipywidgets>=7.0.0->swifter) (0.8.1)\n",
            "Requirement already satisfied: pygments in /usr/local/lib/python3.7/dist-packages (from ipython>=4.0.0->ipywidgets>=7.0.0->swifter) (2.6.1)\n",
            "Requirement already satisfied: pexpect in /usr/local/lib/python3.7/dist-packages (from ipython>=4.0.0->ipywidgets>=7.0.0->swifter) (4.8.0)\n",
            "Requirement already satisfied: prompt-toolkit<2.0.0,>=1.0.4 in /usr/local/lib/python3.7/dist-packages (from ipython>=4.0.0->ipywidgets>=7.0.0->swifter) (1.0.18)\n",
            "Requirement already satisfied: pickleshare in /usr/local/lib/python3.7/dist-packages (from ipython>=4.0.0->ipywidgets>=7.0.0->swifter) (0.7.5)\n",
            "Requirement already satisfied: jsonschema>=2.6 in /usr/local/lib/python3.7/dist-packages (from nbformat>=4.2.0->ipywidgets>=7.0.0->swifter) (4.3.3)\n",
            "Requirement already satisfied: fastjsonschema in /usr/local/lib/python3.7/dist-packages (from nbformat>=4.2.0->ipywidgets>=7.0.0->swifter) (2.15.3)\n",
            "Requirement already satisfied: jupyter-core in /usr/local/lib/python3.7/dist-packages (from nbformat>=4.2.0->ipywidgets>=7.0.0->swifter) (4.10.0)\n",
            "Requirement already satisfied: importlib-metadata in /usr/local/lib/python3.7/dist-packages (from jsonschema>=2.6->nbformat>=4.2.0->ipywidgets>=7.0.0->swifter) (4.11.4)\n",
            "Requirement already satisfied: importlib-resources>=1.4.0 in /usr/local/lib/python3.7/dist-packages (from jsonschema>=2.6->nbformat>=4.2.0->ipywidgets>=7.0.0->swifter) (5.7.1)\n",
            "Requirement already satisfied: attrs>=17.4.0 in /usr/local/lib/python3.7/dist-packages (from jsonschema>=2.6->nbformat>=4.2.0->ipywidgets>=7.0.0->swifter) (21.4.0)\n",
            "Requirement already satisfied: typing-extensions in /usr/local/lib/python3.7/dist-packages (from jsonschema>=2.6->nbformat>=4.2.0->ipywidgets>=7.0.0->swifter) (4.1.1)\n",
            "Requirement already satisfied: pyrsistent!=0.17.0,!=0.17.1,!=0.17.2,>=0.14.0 in /usr/local/lib/python3.7/dist-packages (from jsonschema>=2.6->nbformat>=4.2.0->ipywidgets>=7.0.0->swifter) (0.18.1)\n",
            "Requirement already satisfied: zipp>=3.1.0 in /usr/local/lib/python3.7/dist-packages (from importlib-resources>=1.4.0->jsonschema>=2.6->nbformat>=4.2.0->ipywidgets>=7.0.0->swifter) (3.8.0)\n",
            "Requirement already satisfied: python-dateutil>=2.7.3 in /usr/local/lib/python3.7/dist-packages (from pandas>=1.0.0->swifter) (2.8.2)\n",
            "Requirement already satisfied: pytz>=2017.3 in /usr/local/lib/python3.7/dist-packages (from pandas>=1.0.0->swifter) (2022.1)\n",
            "Requirement already satisfied: locket in /usr/local/lib/python3.7/dist-packages (from partd>=0.3.10->dask[dataframe]>=2.10.0->swifter) (1.0.0)\n",
            "Requirement already satisfied: wcwidth in /usr/local/lib/python3.7/dist-packages (from prompt-toolkit<2.0.0,>=1.0.4->ipython>=4.0.0->ipywidgets>=7.0.0->swifter) (0.2.5)\n",
            "Requirement already satisfied: notebook>=4.4.1 in /usr/local/lib/python3.7/dist-packages (from widgetsnbextension~=3.6.0->ipywidgets>=7.0.0->swifter) (5.3.1)\n",
            "Requirement already satisfied: terminado>=0.8.1 in /usr/local/lib/python3.7/dist-packages (from notebook>=4.4.1->widgetsnbextension~=3.6.0->ipywidgets>=7.0.0->swifter) (0.13.3)\n",
            "Requirement already satisfied: nbconvert in /usr/local/lib/python3.7/dist-packages (from notebook>=4.4.1->widgetsnbextension~=3.6.0->ipywidgets>=7.0.0->swifter) (5.6.1)\n",
            "Requirement already satisfied: Send2Trash in /usr/local/lib/python3.7/dist-packages (from notebook>=4.4.1->widgetsnbextension~=3.6.0->ipywidgets>=7.0.0->swifter) (1.8.0)\n",
            "Requirement already satisfied: jinja2 in /usr/local/lib/python3.7/dist-packages (from notebook>=4.4.1->widgetsnbextension~=3.6.0->ipywidgets>=7.0.0->swifter) (2.11.3)\n",
            "Requirement already satisfied: pyzmq>=13 in /usr/local/lib/python3.7/dist-packages (from jupyter-client->ipykernel>=4.5.1->ipywidgets>=7.0.0->swifter) (23.1.0)\n",
            "Requirement already satisfied: ptyprocess in /usr/local/lib/python3.7/dist-packages (from terminado>=0.8.1->notebook>=4.4.1->widgetsnbextension~=3.6.0->ipywidgets>=7.0.0->swifter) (0.7.0)\n",
            "Requirement already satisfied: MarkupSafe>=0.23 in /usr/local/lib/python3.7/dist-packages (from jinja2->notebook>=4.4.1->widgetsnbextension~=3.6.0->ipywidgets>=7.0.0->swifter) (2.0.1)\n",
            "Requirement already satisfied: entrypoints>=0.2.2 in /usr/local/lib/python3.7/dist-packages (from nbconvert->notebook>=4.4.1->widgetsnbextension~=3.6.0->ipywidgets>=7.0.0->swifter) (0.4)\n",
            "Requirement already satisfied: testpath in /usr/local/lib/python3.7/dist-packages (from nbconvert->notebook>=4.4.1->widgetsnbextension~=3.6.0->ipywidgets>=7.0.0->swifter) (0.6.0)\n",
            "Requirement already satisfied: mistune<2,>=0.8.1 in /usr/local/lib/python3.7/dist-packages (from nbconvert->notebook>=4.4.1->widgetsnbextension~=3.6.0->ipywidgets>=7.0.0->swifter) (0.8.4)\n",
            "Requirement already satisfied: pandocfilters>=1.4.1 in /usr/local/lib/python3.7/dist-packages (from nbconvert->notebook>=4.4.1->widgetsnbextension~=3.6.0->ipywidgets>=7.0.0->swifter) (1.5.0)\n",
            "Requirement already satisfied: defusedxml in /usr/local/lib/python3.7/dist-packages (from nbconvert->notebook>=4.4.1->widgetsnbextension~=3.6.0->ipywidgets>=7.0.0->swifter) (0.7.1)\n"
          ]
        }
      ]
    },
    {
      "cell_type": "markdown",
      "source": [
        "## **READ DATA**\n",
        "\n",
        "\n",
        "\n"
      ],
      "metadata": {
        "id": "QOqGc3u29uDW"
      }
    },
    {
      "cell_type": "markdown",
      "source": [
        "Membuat variabel untuk membaca data csv, dan membuat data frame dengan nama komentar dan sentimen, kolom komentar dijadikan string ASCII. Dan menampilkan hasil tweet data"
      ],
      "metadata": {
        "id": "sYsorSlP-may"
      }
    },
    {
      "cell_type": "code",
      "source": [
        "TWEET_DATA = pd.read_csv(\"/content/DataSampelPython.csv\", names=['komentar', \"sentimen\"], encoding = \"ISO-8859-1\")\n",
        "TWEET_DATA['komentar'].str.encode('ascii', 'ignore')\n",
        "TWEET_DATA"
      ],
      "metadata": {
        "colab": {
          "base_uri": "https://localhost:8080/",
          "height": 394
        },
        "id": "52-GLP615g9f",
        "outputId": "e68bebbe-6a68-4f40-adbf-65173acf3492"
      },
      "execution_count": 4,
      "outputs": [
        {
          "output_type": "execute_result",
          "data": {
            "text/plain": [
              "                                             komentar  sentimen\n",
              "0                                         ï»¿komentar  sentimen\n",
              "1   Kebijakan (MBKM) merupakan salah satu transfor...   Positif\n",
              "2   Ini di linkedin yang baru jadi engineer di tra...   Positif\n",
              "3                              mbkm energi emang asik   Positif\n",
              "4   di prodi aku kemarin dijelasin kalau tahun ini...   Positif\n",
              "5   'habis magang mbkm ini, gw jadi makin pede bua...   Positif\n",
              "6   Yang pernah ikut MBKM pasti tau uang saku, tel...   Negatif\n",
              "7   'Diduga yang daftar open recruitment sedikit, ...   Negatif\n",
              "8                         drama mbkm cukup melelahkan   Negatif\n",
              "9   Ribet ini mbkm, apalagi buat anak fikes susah ...   Negatif\n",
              "10                    Goblog mbkm beban banget dadada   Negatif"
            ],
            "text/html": [
              "\n",
              "  <div id=\"df-a683aa72-8474-4188-b47a-c9e9b20fa403\">\n",
              "    <div class=\"colab-df-container\">\n",
              "      <div>\n",
              "<style scoped>\n",
              "    .dataframe tbody tr th:only-of-type {\n",
              "        vertical-align: middle;\n",
              "    }\n",
              "\n",
              "    .dataframe tbody tr th {\n",
              "        vertical-align: top;\n",
              "    }\n",
              "\n",
              "    .dataframe thead th {\n",
              "        text-align: right;\n",
              "    }\n",
              "</style>\n",
              "<table border=\"1\" class=\"dataframe\">\n",
              "  <thead>\n",
              "    <tr style=\"text-align: right;\">\n",
              "      <th></th>\n",
              "      <th>komentar</th>\n",
              "      <th>sentimen</th>\n",
              "    </tr>\n",
              "  </thead>\n",
              "  <tbody>\n",
              "    <tr>\n",
              "      <th>0</th>\n",
              "      <td>ï»¿komentar</td>\n",
              "      <td>sentimen</td>\n",
              "    </tr>\n",
              "    <tr>\n",
              "      <th>1</th>\n",
              "      <td>Kebijakan (MBKM) merupakan salah satu transfor...</td>\n",
              "      <td>Positif</td>\n",
              "    </tr>\n",
              "    <tr>\n",
              "      <th>2</th>\n",
              "      <td>Ini di linkedin yang baru jadi engineer di tra...</td>\n",
              "      <td>Positif</td>\n",
              "    </tr>\n",
              "    <tr>\n",
              "      <th>3</th>\n",
              "      <td>mbkm energi emang asik</td>\n",
              "      <td>Positif</td>\n",
              "    </tr>\n",
              "    <tr>\n",
              "      <th>4</th>\n",
              "      <td>di prodi aku kemarin dijelasin kalau tahun ini...</td>\n",
              "      <td>Positif</td>\n",
              "    </tr>\n",
              "    <tr>\n",
              "      <th>5</th>\n",
              "      <td>'habis magang mbkm ini, gw jadi makin pede bua...</td>\n",
              "      <td>Positif</td>\n",
              "    </tr>\n",
              "    <tr>\n",
              "      <th>6</th>\n",
              "      <td>Yang pernah ikut MBKM pasti tau uang saku, tel...</td>\n",
              "      <td>Negatif</td>\n",
              "    </tr>\n",
              "    <tr>\n",
              "      <th>7</th>\n",
              "      <td>'Diduga yang daftar open recruitment sedikit, ...</td>\n",
              "      <td>Negatif</td>\n",
              "    </tr>\n",
              "    <tr>\n",
              "      <th>8</th>\n",
              "      <td>drama mbkm cukup melelahkan</td>\n",
              "      <td>Negatif</td>\n",
              "    </tr>\n",
              "    <tr>\n",
              "      <th>9</th>\n",
              "      <td>Ribet ini mbkm, apalagi buat anak fikes susah ...</td>\n",
              "      <td>Negatif</td>\n",
              "    </tr>\n",
              "    <tr>\n",
              "      <th>10</th>\n",
              "      <td>Goblog mbkm beban banget dadada</td>\n",
              "      <td>Negatif</td>\n",
              "    </tr>\n",
              "  </tbody>\n",
              "</table>\n",
              "</div>\n",
              "      <button class=\"colab-df-convert\" onclick=\"convertToInteractive('df-a683aa72-8474-4188-b47a-c9e9b20fa403')\"\n",
              "              title=\"Convert this dataframe to an interactive table.\"\n",
              "              style=\"display:none;\">\n",
              "        \n",
              "  <svg xmlns=\"http://www.w3.org/2000/svg\" height=\"24px\"viewBox=\"0 0 24 24\"\n",
              "       width=\"24px\">\n",
              "    <path d=\"M0 0h24v24H0V0z\" fill=\"none\"/>\n",
              "    <path d=\"M18.56 5.44l.94 2.06.94-2.06 2.06-.94-2.06-.94-.94-2.06-.94 2.06-2.06.94zm-11 1L8.5 8.5l.94-2.06 2.06-.94-2.06-.94L8.5 2.5l-.94 2.06-2.06.94zm10 10l.94 2.06.94-2.06 2.06-.94-2.06-.94-.94-2.06-.94 2.06-2.06.94z\"/><path d=\"M17.41 7.96l-1.37-1.37c-.4-.4-.92-.59-1.43-.59-.52 0-1.04.2-1.43.59L10.3 9.45l-7.72 7.72c-.78.78-.78 2.05 0 2.83L4 21.41c.39.39.9.59 1.41.59.51 0 1.02-.2 1.41-.59l7.78-7.78 2.81-2.81c.8-.78.8-2.07 0-2.86zM5.41 20L4 18.59l7.72-7.72 1.47 1.35L5.41 20z\"/>\n",
              "  </svg>\n",
              "      </button>\n",
              "      \n",
              "  <style>\n",
              "    .colab-df-container {\n",
              "      display:flex;\n",
              "      flex-wrap:wrap;\n",
              "      gap: 12px;\n",
              "    }\n",
              "\n",
              "    .colab-df-convert {\n",
              "      background-color: #E8F0FE;\n",
              "      border: none;\n",
              "      border-radius: 50%;\n",
              "      cursor: pointer;\n",
              "      display: none;\n",
              "      fill: #1967D2;\n",
              "      height: 32px;\n",
              "      padding: 0 0 0 0;\n",
              "      width: 32px;\n",
              "    }\n",
              "\n",
              "    .colab-df-convert:hover {\n",
              "      background-color: #E2EBFA;\n",
              "      box-shadow: 0px 1px 2px rgba(60, 64, 67, 0.3), 0px 1px 3px 1px rgba(60, 64, 67, 0.15);\n",
              "      fill: #174EA6;\n",
              "    }\n",
              "\n",
              "    [theme=dark] .colab-df-convert {\n",
              "      background-color: #3B4455;\n",
              "      fill: #D2E3FC;\n",
              "    }\n",
              "\n",
              "    [theme=dark] .colab-df-convert:hover {\n",
              "      background-color: #434B5C;\n",
              "      box-shadow: 0px 1px 3px 1px rgba(0, 0, 0, 0.15);\n",
              "      filter: drop-shadow(0px 1px 2px rgba(0, 0, 0, 0.3));\n",
              "      fill: #FFFFFF;\n",
              "    }\n",
              "  </style>\n",
              "\n",
              "      <script>\n",
              "        const buttonEl =\n",
              "          document.querySelector('#df-a683aa72-8474-4188-b47a-c9e9b20fa403 button.colab-df-convert');\n",
              "        buttonEl.style.display =\n",
              "          google.colab.kernel.accessAllowed ? 'block' : 'none';\n",
              "\n",
              "        async function convertToInteractive(key) {\n",
              "          const element = document.querySelector('#df-a683aa72-8474-4188-b47a-c9e9b20fa403');\n",
              "          const dataTable =\n",
              "            await google.colab.kernel.invokeFunction('convertToInteractive',\n",
              "                                                     [key], {});\n",
              "          if (!dataTable) return;\n",
              "\n",
              "          const docLinkHtml = 'Like what you see? Visit the ' +\n",
              "            '<a target=\"_blank\" href=https://colab.research.google.com/notebooks/data_table.ipynb>data table notebook</a>'\n",
              "            + ' to learn more about interactive tables.';\n",
              "          element.innerHTML = '';\n",
              "          dataTable['output_type'] = 'display_data';\n",
              "          await google.colab.output.renderOutput(dataTable, element);\n",
              "          const docLink = document.createElement('div');\n",
              "          docLink.innerHTML = docLinkHtml;\n",
              "          element.appendChild(docLink);\n",
              "        }\n",
              "      </script>\n",
              "    </div>\n",
              "  </div>\n",
              "  "
            ]
          },
          "metadata": {},
          "execution_count": 4
        }
      ]
    },
    {
      "cell_type": "markdown",
      "source": [
        "## **CASE FOLDING**"
      ],
      "metadata": {
        "id": "iig11Lwy--Jr"
      }
    },
    {
      "cell_type": "markdown",
      "source": [
        "Membuat variabel tweet data untuk membuat kolom baru yaitu Tweet, isi dari kolom tweet ini adalah kolom komentar yang sudah dilakukan proses case folding (lower case)"
      ],
      "metadata": {
        "id": "2nEb3fsu_DKe"
      }
    },
    {
      "cell_type": "code",
      "source": [
        "TWEET_DATA['Tweet'] = TWEET_DATA['komentar'].str.lower()\n",
        "TWEET_DATA"
      ],
      "metadata": {
        "colab": {
          "base_uri": "https://localhost:8080/",
          "height": 394
        },
        "id": "L4zN3I4C5p1C",
        "outputId": "38500d68-e3d5-413c-99df-32f3465abd14"
      },
      "execution_count": 5,
      "outputs": [
        {
          "output_type": "execute_result",
          "data": {
            "text/plain": [
              "                                             komentar  sentimen  \\\n",
              "0                                         ï»¿komentar  sentimen   \n",
              "1   Kebijakan (MBKM) merupakan salah satu transfor...   Positif   \n",
              "2   Ini di linkedin yang baru jadi engineer di tra...   Positif   \n",
              "3                              mbkm energi emang asik   Positif   \n",
              "4   di prodi aku kemarin dijelasin kalau tahun ini...   Positif   \n",
              "5   'habis magang mbkm ini, gw jadi makin pede bua...   Positif   \n",
              "6   Yang pernah ikut MBKM pasti tau uang saku, tel...   Negatif   \n",
              "7   'Diduga yang daftar open recruitment sedikit, ...   Negatif   \n",
              "8                         drama mbkm cukup melelahkan   Negatif   \n",
              "9   Ribet ini mbkm, apalagi buat anak fikes susah ...   Negatif   \n",
              "10                    Goblog mbkm beban banget dadada   Negatif   \n",
              "\n",
              "                                                Tweet  \n",
              "0                                         ï»¿komentar  \n",
              "1   kebijakan (mbkm) merupakan salah satu transfor...  \n",
              "2   ini di linkedin yang baru jadi engineer di tra...  \n",
              "3                              mbkm energi emang asik  \n",
              "4   di prodi aku kemarin dijelasin kalau tahun ini...  \n",
              "5   'habis magang mbkm ini, gw jadi makin pede bua...  \n",
              "6   yang pernah ikut mbkm pasti tau uang saku, tel...  \n",
              "7   'diduga yang daftar open recruitment sedikit, ...  \n",
              "8                         drama mbkm cukup melelahkan  \n",
              "9   ribet ini mbkm, apalagi buat anak fikes susah ...  \n",
              "10                    goblog mbkm beban banget dadada  "
            ],
            "text/html": [
              "\n",
              "  <div id=\"df-308701ff-d0e5-4188-92f0-fd17cd01eb28\">\n",
              "    <div class=\"colab-df-container\">\n",
              "      <div>\n",
              "<style scoped>\n",
              "    .dataframe tbody tr th:only-of-type {\n",
              "        vertical-align: middle;\n",
              "    }\n",
              "\n",
              "    .dataframe tbody tr th {\n",
              "        vertical-align: top;\n",
              "    }\n",
              "\n",
              "    .dataframe thead th {\n",
              "        text-align: right;\n",
              "    }\n",
              "</style>\n",
              "<table border=\"1\" class=\"dataframe\">\n",
              "  <thead>\n",
              "    <tr style=\"text-align: right;\">\n",
              "      <th></th>\n",
              "      <th>komentar</th>\n",
              "      <th>sentimen</th>\n",
              "      <th>Tweet</th>\n",
              "    </tr>\n",
              "  </thead>\n",
              "  <tbody>\n",
              "    <tr>\n",
              "      <th>0</th>\n",
              "      <td>ï»¿komentar</td>\n",
              "      <td>sentimen</td>\n",
              "      <td>ï»¿komentar</td>\n",
              "    </tr>\n",
              "    <tr>\n",
              "      <th>1</th>\n",
              "      <td>Kebijakan (MBKM) merupakan salah satu transfor...</td>\n",
              "      <td>Positif</td>\n",
              "      <td>kebijakan (mbkm) merupakan salah satu transfor...</td>\n",
              "    </tr>\n",
              "    <tr>\n",
              "      <th>2</th>\n",
              "      <td>Ini di linkedin yang baru jadi engineer di tra...</td>\n",
              "      <td>Positif</td>\n",
              "      <td>ini di linkedin yang baru jadi engineer di tra...</td>\n",
              "    </tr>\n",
              "    <tr>\n",
              "      <th>3</th>\n",
              "      <td>mbkm energi emang asik</td>\n",
              "      <td>Positif</td>\n",
              "      <td>mbkm energi emang asik</td>\n",
              "    </tr>\n",
              "    <tr>\n",
              "      <th>4</th>\n",
              "      <td>di prodi aku kemarin dijelasin kalau tahun ini...</td>\n",
              "      <td>Positif</td>\n",
              "      <td>di prodi aku kemarin dijelasin kalau tahun ini...</td>\n",
              "    </tr>\n",
              "    <tr>\n",
              "      <th>5</th>\n",
              "      <td>'habis magang mbkm ini, gw jadi makin pede bua...</td>\n",
              "      <td>Positif</td>\n",
              "      <td>'habis magang mbkm ini, gw jadi makin pede bua...</td>\n",
              "    </tr>\n",
              "    <tr>\n",
              "      <th>6</th>\n",
              "      <td>Yang pernah ikut MBKM pasti tau uang saku, tel...</td>\n",
              "      <td>Negatif</td>\n",
              "      <td>yang pernah ikut mbkm pasti tau uang saku, tel...</td>\n",
              "    </tr>\n",
              "    <tr>\n",
              "      <th>7</th>\n",
              "      <td>'Diduga yang daftar open recruitment sedikit, ...</td>\n",
              "      <td>Negatif</td>\n",
              "      <td>'diduga yang daftar open recruitment sedikit, ...</td>\n",
              "    </tr>\n",
              "    <tr>\n",
              "      <th>8</th>\n",
              "      <td>drama mbkm cukup melelahkan</td>\n",
              "      <td>Negatif</td>\n",
              "      <td>drama mbkm cukup melelahkan</td>\n",
              "    </tr>\n",
              "    <tr>\n",
              "      <th>9</th>\n",
              "      <td>Ribet ini mbkm, apalagi buat anak fikes susah ...</td>\n",
              "      <td>Negatif</td>\n",
              "      <td>ribet ini mbkm, apalagi buat anak fikes susah ...</td>\n",
              "    </tr>\n",
              "    <tr>\n",
              "      <th>10</th>\n",
              "      <td>Goblog mbkm beban banget dadada</td>\n",
              "      <td>Negatif</td>\n",
              "      <td>goblog mbkm beban banget dadada</td>\n",
              "    </tr>\n",
              "  </tbody>\n",
              "</table>\n",
              "</div>\n",
              "      <button class=\"colab-df-convert\" onclick=\"convertToInteractive('df-308701ff-d0e5-4188-92f0-fd17cd01eb28')\"\n",
              "              title=\"Convert this dataframe to an interactive table.\"\n",
              "              style=\"display:none;\">\n",
              "        \n",
              "  <svg xmlns=\"http://www.w3.org/2000/svg\" height=\"24px\"viewBox=\"0 0 24 24\"\n",
              "       width=\"24px\">\n",
              "    <path d=\"M0 0h24v24H0V0z\" fill=\"none\"/>\n",
              "    <path d=\"M18.56 5.44l.94 2.06.94-2.06 2.06-.94-2.06-.94-.94-2.06-.94 2.06-2.06.94zm-11 1L8.5 8.5l.94-2.06 2.06-.94-2.06-.94L8.5 2.5l-.94 2.06-2.06.94zm10 10l.94 2.06.94-2.06 2.06-.94-2.06-.94-.94-2.06-.94 2.06-2.06.94z\"/><path d=\"M17.41 7.96l-1.37-1.37c-.4-.4-.92-.59-1.43-.59-.52 0-1.04.2-1.43.59L10.3 9.45l-7.72 7.72c-.78.78-.78 2.05 0 2.83L4 21.41c.39.39.9.59 1.41.59.51 0 1.02-.2 1.41-.59l7.78-7.78 2.81-2.81c.8-.78.8-2.07 0-2.86zM5.41 20L4 18.59l7.72-7.72 1.47 1.35L5.41 20z\"/>\n",
              "  </svg>\n",
              "      </button>\n",
              "      \n",
              "  <style>\n",
              "    .colab-df-container {\n",
              "      display:flex;\n",
              "      flex-wrap:wrap;\n",
              "      gap: 12px;\n",
              "    }\n",
              "\n",
              "    .colab-df-convert {\n",
              "      background-color: #E8F0FE;\n",
              "      border: none;\n",
              "      border-radius: 50%;\n",
              "      cursor: pointer;\n",
              "      display: none;\n",
              "      fill: #1967D2;\n",
              "      height: 32px;\n",
              "      padding: 0 0 0 0;\n",
              "      width: 32px;\n",
              "    }\n",
              "\n",
              "    .colab-df-convert:hover {\n",
              "      background-color: #E2EBFA;\n",
              "      box-shadow: 0px 1px 2px rgba(60, 64, 67, 0.3), 0px 1px 3px 1px rgba(60, 64, 67, 0.15);\n",
              "      fill: #174EA6;\n",
              "    }\n",
              "\n",
              "    [theme=dark] .colab-df-convert {\n",
              "      background-color: #3B4455;\n",
              "      fill: #D2E3FC;\n",
              "    }\n",
              "\n",
              "    [theme=dark] .colab-df-convert:hover {\n",
              "      background-color: #434B5C;\n",
              "      box-shadow: 0px 1px 3px 1px rgba(0, 0, 0, 0.15);\n",
              "      filter: drop-shadow(0px 1px 2px rgba(0, 0, 0, 0.3));\n",
              "      fill: #FFFFFF;\n",
              "    }\n",
              "  </style>\n",
              "\n",
              "      <script>\n",
              "        const buttonEl =\n",
              "          document.querySelector('#df-308701ff-d0e5-4188-92f0-fd17cd01eb28 button.colab-df-convert');\n",
              "        buttonEl.style.display =\n",
              "          google.colab.kernel.accessAllowed ? 'block' : 'none';\n",
              "\n",
              "        async function convertToInteractive(key) {\n",
              "          const element = document.querySelector('#df-308701ff-d0e5-4188-92f0-fd17cd01eb28');\n",
              "          const dataTable =\n",
              "            await google.colab.kernel.invokeFunction('convertToInteractive',\n",
              "                                                     [key], {});\n",
              "          if (!dataTable) return;\n",
              "\n",
              "          const docLinkHtml = 'Like what you see? Visit the ' +\n",
              "            '<a target=\"_blank\" href=https://colab.research.google.com/notebooks/data_table.ipynb>data table notebook</a>'\n",
              "            + ' to learn more about interactive tables.';\n",
              "          element.innerHTML = '';\n",
              "          dataTable['output_type'] = 'display_data';\n",
              "          await google.colab.output.renderOutput(dataTable, element);\n",
              "          const docLink = document.createElement('div');\n",
              "          docLink.innerHTML = docLinkHtml;\n",
              "          element.appendChild(docLink);\n",
              "        }\n",
              "      </script>\n",
              "    </div>\n",
              "  </div>\n",
              "  "
            ]
          },
          "metadata": {},
          "execution_count": 5
        }
      ]
    },
    {
      "cell_type": "markdown",
      "source": [
        "## **TOKENIZING**"
      ],
      "metadata": {
        "id": "ka0r8364_xFN"
      }
    },
    {
      "cell_type": "markdown",
      "source": [
        "Dalam nltk word tokenize membuat fungsi word tokenize wrapper. Proses pada Tweet Data membuat kolom tweet tokens yang sudah diterapkan fungsi word tokenize wrapper dan mendapatkan hasil tokenizing"
      ],
      "metadata": {
        "id": "hQ9G3O3p_7Cx"
      }
    },
    {
      "cell_type": "code",
      "source": [
        "# NLTK word tokenize\n",
        "def word_tokenize_wrapper(text):\n",
        "    return word_tokenize(text)\n",
        "\n",
        "TWEET_DATA['tweet_tokens'] = TWEET_DATA['Tweet'].apply(word_tokenize_wrapper)\n",
        "\n",
        "print('Tokenizing Result : \\n')\n",
        "TWEET_DATA"
      ],
      "metadata": {
        "colab": {
          "base_uri": "https://localhost:8080/",
          "height": 595
        },
        "id": "BtHVhsAo511M",
        "outputId": "6dd8b492-b4ea-4176-8149-ad8b28d14e6f"
      },
      "execution_count": 7,
      "outputs": [
        {
          "output_type": "stream",
          "name": "stdout",
          "text": [
            "Tokenizing Result : \n",
            "\n"
          ]
        },
        {
          "output_type": "execute_result",
          "data": {
            "text/plain": [
              "                                             komentar  sentimen  \\\n",
              "0                                         ï»¿komentar  sentimen   \n",
              "1   Kebijakan (MBKM) merupakan salah satu transfor...   Positif   \n",
              "2   Ini di linkedin yang baru jadi engineer di tra...   Positif   \n",
              "3                              mbkm energi emang asik   Positif   \n",
              "4   di prodi aku kemarin dijelasin kalau tahun ini...   Positif   \n",
              "5   'habis magang mbkm ini, gw jadi makin pede bua...   Positif   \n",
              "6   Yang pernah ikut MBKM pasti tau uang saku, tel...   Negatif   \n",
              "7   'Diduga yang daftar open recruitment sedikit, ...   Negatif   \n",
              "8                         drama mbkm cukup melelahkan   Negatif   \n",
              "9   Ribet ini mbkm, apalagi buat anak fikes susah ...   Negatif   \n",
              "10                    Goblog mbkm beban banget dadada   Negatif   \n",
              "\n",
              "                                                Tweet  \\\n",
              "0                                         ï»¿komentar   \n",
              "1   kebijakan mbkm merupakan salah satu transforma...   \n",
              "2   ini di linkedin yang baru jadi engineer di tra...   \n",
              "3                              mbkm energi emang asik   \n",
              "4   di prodi aku kemarin dijelasin kalau tahun ini...   \n",
              "5   habis magang mbkm ini gw jadi makin pede buat ...   \n",
              "6   yang pernah ikut mbkm pasti tau uang saku tela...   \n",
              "7   diduga yang daftar open recruitment sedikit or...   \n",
              "8                         drama mbkm cukup melelahkan   \n",
              "9   ribet ini mbkm apalagi buat anak fikes susah b...   \n",
              "10                    goblog mbkm beban banget dadada   \n",
              "\n",
              "                                         tweet_tokens  \n",
              "0                                   [ï, », ¿komentar]  \n",
              "1   [kebijakan, mbkm, merupakan, salah, satu, tran...  \n",
              "2   [ini, di, linkedin, yang, baru, jadi, engineer...  \n",
              "3                         [mbkm, energi, emang, asik]  \n",
              "4   [di, prodi, aku, kemarin, dijelasin, kalau, ta...  \n",
              "5   [habis, magang, mbkm, ini, gw, jadi, makin, pe...  \n",
              "6   [yang, pernah, ikut, mbkm, pasti, tau, uang, s...  \n",
              "7   [diduga, yang, daftar, open, recruitment, sedi...  \n",
              "8                    [drama, mbkm, cukup, melelahkan]  \n",
              "9   [ribet, ini, mbkm, apalagi, buat, anak, fikes,...  \n",
              "10              [goblog, mbkm, beban, banget, dadada]  "
            ],
            "text/html": [
              "\n",
              "  <div id=\"df-80c323e6-8898-454c-8e41-d584c765d825\">\n",
              "    <div class=\"colab-df-container\">\n",
              "      <div>\n",
              "<style scoped>\n",
              "    .dataframe tbody tr th:only-of-type {\n",
              "        vertical-align: middle;\n",
              "    }\n",
              "\n",
              "    .dataframe tbody tr th {\n",
              "        vertical-align: top;\n",
              "    }\n",
              "\n",
              "    .dataframe thead th {\n",
              "        text-align: right;\n",
              "    }\n",
              "</style>\n",
              "<table border=\"1\" class=\"dataframe\">\n",
              "  <thead>\n",
              "    <tr style=\"text-align: right;\">\n",
              "      <th></th>\n",
              "      <th>komentar</th>\n",
              "      <th>sentimen</th>\n",
              "      <th>Tweet</th>\n",
              "      <th>tweet_tokens</th>\n",
              "    </tr>\n",
              "  </thead>\n",
              "  <tbody>\n",
              "    <tr>\n",
              "      <th>0</th>\n",
              "      <td>ï»¿komentar</td>\n",
              "      <td>sentimen</td>\n",
              "      <td>ï»¿komentar</td>\n",
              "      <td>[ï, », ¿komentar]</td>\n",
              "    </tr>\n",
              "    <tr>\n",
              "      <th>1</th>\n",
              "      <td>Kebijakan (MBKM) merupakan salah satu transfor...</td>\n",
              "      <td>Positif</td>\n",
              "      <td>kebijakan mbkm merupakan salah satu transforma...</td>\n",
              "      <td>[kebijakan, mbkm, merupakan, salah, satu, tran...</td>\n",
              "    </tr>\n",
              "    <tr>\n",
              "      <th>2</th>\n",
              "      <td>Ini di linkedin yang baru jadi engineer di tra...</td>\n",
              "      <td>Positif</td>\n",
              "      <td>ini di linkedin yang baru jadi engineer di tra...</td>\n",
              "      <td>[ini, di, linkedin, yang, baru, jadi, engineer...</td>\n",
              "    </tr>\n",
              "    <tr>\n",
              "      <th>3</th>\n",
              "      <td>mbkm energi emang asik</td>\n",
              "      <td>Positif</td>\n",
              "      <td>mbkm energi emang asik</td>\n",
              "      <td>[mbkm, energi, emang, asik]</td>\n",
              "    </tr>\n",
              "    <tr>\n",
              "      <th>4</th>\n",
              "      <td>di prodi aku kemarin dijelasin kalau tahun ini...</td>\n",
              "      <td>Positif</td>\n",
              "      <td>di prodi aku kemarin dijelasin kalau tahun ini...</td>\n",
              "      <td>[di, prodi, aku, kemarin, dijelasin, kalau, ta...</td>\n",
              "    </tr>\n",
              "    <tr>\n",
              "      <th>5</th>\n",
              "      <td>'habis magang mbkm ini, gw jadi makin pede bua...</td>\n",
              "      <td>Positif</td>\n",
              "      <td>habis magang mbkm ini gw jadi makin pede buat ...</td>\n",
              "      <td>[habis, magang, mbkm, ini, gw, jadi, makin, pe...</td>\n",
              "    </tr>\n",
              "    <tr>\n",
              "      <th>6</th>\n",
              "      <td>Yang pernah ikut MBKM pasti tau uang saku, tel...</td>\n",
              "      <td>Negatif</td>\n",
              "      <td>yang pernah ikut mbkm pasti tau uang saku tela...</td>\n",
              "      <td>[yang, pernah, ikut, mbkm, pasti, tau, uang, s...</td>\n",
              "    </tr>\n",
              "    <tr>\n",
              "      <th>7</th>\n",
              "      <td>'Diduga yang daftar open recruitment sedikit, ...</td>\n",
              "      <td>Negatif</td>\n",
              "      <td>diduga yang daftar open recruitment sedikit or...</td>\n",
              "      <td>[diduga, yang, daftar, open, recruitment, sedi...</td>\n",
              "    </tr>\n",
              "    <tr>\n",
              "      <th>8</th>\n",
              "      <td>drama mbkm cukup melelahkan</td>\n",
              "      <td>Negatif</td>\n",
              "      <td>drama mbkm cukup melelahkan</td>\n",
              "      <td>[drama, mbkm, cukup, melelahkan]</td>\n",
              "    </tr>\n",
              "    <tr>\n",
              "      <th>9</th>\n",
              "      <td>Ribet ini mbkm, apalagi buat anak fikes susah ...</td>\n",
              "      <td>Negatif</td>\n",
              "      <td>ribet ini mbkm apalagi buat anak fikes susah b...</td>\n",
              "      <td>[ribet, ini, mbkm, apalagi, buat, anak, fikes,...</td>\n",
              "    </tr>\n",
              "    <tr>\n",
              "      <th>10</th>\n",
              "      <td>Goblog mbkm beban banget dadada</td>\n",
              "      <td>Negatif</td>\n",
              "      <td>goblog mbkm beban banget dadada</td>\n",
              "      <td>[goblog, mbkm, beban, banget, dadada]</td>\n",
              "    </tr>\n",
              "  </tbody>\n",
              "</table>\n",
              "</div>\n",
              "      <button class=\"colab-df-convert\" onclick=\"convertToInteractive('df-80c323e6-8898-454c-8e41-d584c765d825')\"\n",
              "              title=\"Convert this dataframe to an interactive table.\"\n",
              "              style=\"display:none;\">\n",
              "        \n",
              "  <svg xmlns=\"http://www.w3.org/2000/svg\" height=\"24px\"viewBox=\"0 0 24 24\"\n",
              "       width=\"24px\">\n",
              "    <path d=\"M0 0h24v24H0V0z\" fill=\"none\"/>\n",
              "    <path d=\"M18.56 5.44l.94 2.06.94-2.06 2.06-.94-2.06-.94-.94-2.06-.94 2.06-2.06.94zm-11 1L8.5 8.5l.94-2.06 2.06-.94-2.06-.94L8.5 2.5l-.94 2.06-2.06.94zm10 10l.94 2.06.94-2.06 2.06-.94-2.06-.94-.94-2.06-.94 2.06-2.06.94z\"/><path d=\"M17.41 7.96l-1.37-1.37c-.4-.4-.92-.59-1.43-.59-.52 0-1.04.2-1.43.59L10.3 9.45l-7.72 7.72c-.78.78-.78 2.05 0 2.83L4 21.41c.39.39.9.59 1.41.59.51 0 1.02-.2 1.41-.59l7.78-7.78 2.81-2.81c.8-.78.8-2.07 0-2.86zM5.41 20L4 18.59l7.72-7.72 1.47 1.35L5.41 20z\"/>\n",
              "  </svg>\n",
              "      </button>\n",
              "      \n",
              "  <style>\n",
              "    .colab-df-container {\n",
              "      display:flex;\n",
              "      flex-wrap:wrap;\n",
              "      gap: 12px;\n",
              "    }\n",
              "\n",
              "    .colab-df-convert {\n",
              "      background-color: #E8F0FE;\n",
              "      border: none;\n",
              "      border-radius: 50%;\n",
              "      cursor: pointer;\n",
              "      display: none;\n",
              "      fill: #1967D2;\n",
              "      height: 32px;\n",
              "      padding: 0 0 0 0;\n",
              "      width: 32px;\n",
              "    }\n",
              "\n",
              "    .colab-df-convert:hover {\n",
              "      background-color: #E2EBFA;\n",
              "      box-shadow: 0px 1px 2px rgba(60, 64, 67, 0.3), 0px 1px 3px 1px rgba(60, 64, 67, 0.15);\n",
              "      fill: #174EA6;\n",
              "    }\n",
              "\n",
              "    [theme=dark] .colab-df-convert {\n",
              "      background-color: #3B4455;\n",
              "      fill: #D2E3FC;\n",
              "    }\n",
              "\n",
              "    [theme=dark] .colab-df-convert:hover {\n",
              "      background-color: #434B5C;\n",
              "      box-shadow: 0px 1px 3px 1px rgba(0, 0, 0, 0.15);\n",
              "      filter: drop-shadow(0px 1px 2px rgba(0, 0, 0, 0.3));\n",
              "      fill: #FFFFFF;\n",
              "    }\n",
              "  </style>\n",
              "\n",
              "      <script>\n",
              "        const buttonEl =\n",
              "          document.querySelector('#df-80c323e6-8898-454c-8e41-d584c765d825 button.colab-df-convert');\n",
              "        buttonEl.style.display =\n",
              "          google.colab.kernel.accessAllowed ? 'block' : 'none';\n",
              "\n",
              "        async function convertToInteractive(key) {\n",
              "          const element = document.querySelector('#df-80c323e6-8898-454c-8e41-d584c765d825');\n",
              "          const dataTable =\n",
              "            await google.colab.kernel.invokeFunction('convertToInteractive',\n",
              "                                                     [key], {});\n",
              "          if (!dataTable) return;\n",
              "\n",
              "          const docLinkHtml = 'Like what you see? Visit the ' +\n",
              "            '<a target=\"_blank\" href=https://colab.research.google.com/notebooks/data_table.ipynb>data table notebook</a>'\n",
              "            + ' to learn more about interactive tables.';\n",
              "          element.innerHTML = '';\n",
              "          dataTable['output_type'] = 'display_data';\n",
              "          await google.colab.output.renderOutput(dataTable, element);\n",
              "          const docLink = document.createElement('div');\n",
              "          docLink.innerHTML = docLinkHtml;\n",
              "          element.appendChild(docLink);\n",
              "        }\n",
              "      </script>\n",
              "    </div>\n",
              "  </div>\n",
              "  "
            ]
          },
          "metadata": {},
          "execution_count": 7
        }
      ]
    },
    {
      "cell_type": "markdown",
      "source": [
        "## **STOPWORD REMOVAL**"
      ],
      "metadata": {
        "id": "G0FSLDyTAbpi"
      }
    },
    {
      "cell_type": "markdown",
      "source": [
        "NLTK menyediakan list dari stopword untuk beberapa bahasa, termasuk bahasa Indonesia. Total ada 758 kata dalam bahasa indonesia yang dikategorikan sebagai stopword oleh NLTK."
      ],
      "metadata": {
        "id": "3XdHBGkPAizf"
      }
    },
    {
      "cell_type": "code",
      "source": [
        "nltk.download('stopwords')\n",
        "from nltk.corpus import stopwords\n",
        "# ----------------------- get stopword from NLTK stopword -------------------------------\n",
        "# get stopword indonesia\n",
        "list_stopwords = stopwords.words('indonesian')\n",
        "print(len(list_stopwords))"
      ],
      "metadata": {
        "colab": {
          "base_uri": "https://localhost:8080/"
        },
        "id": "bHO3YBau57CK",
        "outputId": "0f429931-1f11-48b1-c726-1a43573bb765"
      },
      "execution_count": 8,
      "outputs": [
        {
          "output_type": "stream",
          "name": "stdout",
          "text": [
            "758\n"
          ]
        },
        {
          "output_type": "stream",
          "name": "stderr",
          "text": [
            "[nltk_data] Downloading package stopwords to /root/nltk_data...\n",
            "[nltk_data]   Unzipping corpora/stopwords.zip.\n"
          ]
        }
      ]
    },
    {
      "cell_type": "markdown",
      "source": [
        "Menambahkan stopword manual, dan memasukan list stopword yang akan digunakan."
      ],
      "metadata": {
        "id": "XP8qXtIgAyNv"
      }
    },
    {
      "cell_type": "code",
      "source": [
        "# ---------------------------- manualy add stopword  ------------------------------------\n",
        "# append additional stopword\n",
        "list_stopwords = ('merupakan', 'salah', 'satu', 'ini', 'di', 'yang', 'baru', 'jadi', 'dan', 'juga'\n",
        "                  'emang', 'aku', 'tahun', 'tapi', 'gw', 'buat', 'pasti', 'tau', 'sebagai', 'cukup', 'enak', 'apalagi',\n",
        "                  'buat', 'banget', 'nya', 'dadada')\n",
        "len(list_stopwords)"
      ],
      "metadata": {
        "colab": {
          "base_uri": "https://localhost:8080/"
        },
        "id": "t8_Hw5Cg5_qW",
        "outputId": "8aea1ff0-cea8-4767-c02c-c7fb5a9679b9"
      },
      "execution_count": 9,
      "outputs": [
        {
          "output_type": "execute_result",
          "data": {
            "text/plain": [
              "25"
            ]
          },
          "metadata": {},
          "execution_count": 9
        }
      ]
    },
    {
      "cell_type": "code",
      "source": [
        "normalizad_word = pd.read_csv(\"/content/stopword.txt\")\n",
        "\n",
        "normalizad_word_dict = {}\n",
        "\n",
        "for index, row in normalizad_word.iterrows():\n",
        "    if row[0] not in normalizad_word_dict:\n",
        "        normalizad_word_dict[row[0]] = row[1]\n",
        "\n",
        "def normalized_term(document):\n",
        "    return [normalizad_word_dict[term] if term in normalizad_word_dict else term for term in document]\n",
        "\n",
        "TWEET_DATA['tweet_normalized'] = TWEET_DATA['tweet_tokens_WSW'].apply(normalized_term)\n",
        "TWEET_DATA['tweet_normalized']"
      ],
      "metadata": {
        "colab": {
          "base_uri": "https://localhost:8080/"
        },
        "id": "SmP8Gq5l6ht-",
        "outputId": "1238ffa9-7d36-49bf-e8ae-8826ff58567a"
      },
      "execution_count": 13,
      "outputs": [
        {
          "output_type": "execute_result",
          "data": {
            "text/plain": [
              "0                                     [ï, », ¿komentar]\n",
              "1     [kebijakan, mbkm, transformasi, besar, dalam, ...\n",
              "2     [linkedin, engineer, traveloka, kebanyakan, gr...\n",
              "3                           [mbkm, energi, emang, asik]\n",
              "4     [prodi, kemarin, dijelasin, kalau, mencoba, pr...\n",
              "5     [habis, magang, mbkm, makin, pede, ngelamar, b...\n",
              "6     [pernah, ikut, mbkm, uang, saku, telat, dibaya...\n",
              "7     [diduga, daftar, open, recruitment, sedikit, o...\n",
              "8                             [drama, mbkm, melelahkan]\n",
              "9     [ribet, mbkm, anak, fikes, susah, urusan, konv...\n",
              "10                                [goblog, mbkm, beban]\n",
              "Name: tweet_normalized, dtype: object"
            ]
          },
          "metadata": {},
          "execution_count": 13
        }
      ]
    },
    {
      "cell_type": "markdown",
      "source": [
        "## **STEMMING**"
      ],
      "metadata": {
        "id": "e8RpKRSRBMjA"
      }
    },
    {
      "cell_type": "markdown",
      "source": [
        "Dari library sastrawi stemmer stemmer factory, import stemmer factory dan swifter. Lalu membuat fungsi stemmer, stemmed, dan menerapkan stemmed term ke data frame "
      ],
      "metadata": {
        "id": "91JwG62sBRIL"
      }
    },
    {
      "cell_type": "code",
      "source": [
        "from Sastrawi.Stemmer.StemmerFactory import StemmerFactory\n",
        "import swifter\n",
        "\n",
        "# create stemmer\n",
        "factory = StemmerFactory()\n",
        "stemmer = factory.create_stemmer()\n",
        "\n",
        "# stemmed\n",
        "def stemmed_wrapper(term):\n",
        "    return stemmer.stem(term)\n",
        "\n",
        "term_dict = {}\n",
        "\n",
        "for document in TWEET_DATA['tweet_normalized']:\n",
        "    for term in document:\n",
        "        if term not in term_dict:\n",
        "            term_dict[term] = ' '\n",
        "\n",
        "for term in term_dict:\n",
        "    term_dict[term] = stemmed_wrapper(term)\n",
        "    # print(term, \":\", term_dict[term])\n",
        "\n",
        "# apply stemmed term to dataframe\n",
        "def get_stemmed_term(document):\n",
        "    return [term_dict[term] for term in document]\n",
        "\n",
        "\n",
        "TWEET_DATA['tweet_tokens_stemmed'] = TWEET_DATA['tweet_normalized'].swifter.apply(get_stemmed_term)\n",
        "TWEET_DATA['tweet_tokens_stemmed']"
      ],
      "metadata": {
        "colab": {
          "base_uri": "https://localhost:8080/",
          "height": 257,
          "referenced_widgets": [
            "7c7eb1049fdf456f83dd3ca88d8045a9",
            "a0058041b5b148889f5057f1a89c1184",
            "8ac2ebf1edaf40a0a7c0532dd8e8ee21",
            "f4f8ed20cfe44bfc9385501b82ab4fca",
            "978ef221bb0c439b9508be597d32072b",
            "d643959fc56d4cce99fb26bd442042ef",
            "9305f29b00d64d82adc7a5cc1761a892",
            "79309834d97f4a7ca541e6c4a81d0bdb",
            "0459dd89a11c494095a573f4526b51ad",
            "d12f8e3dc8954e22a87be568ffa908de",
            "d987287747284433b16fd4a086657107"
          ]
        },
        "id": "8r62hYUY61Ou",
        "outputId": "42a650c3-7ce4-4e97-e165-521c93091338"
      },
      "execution_count": 14,
      "outputs": [
        {
          "output_type": "display_data",
          "data": {
            "text/plain": [
              "Pandas Apply:   0%|          | 0/11 [00:00<?, ?it/s]"
            ],
            "application/vnd.jupyter.widget-view+json": {
              "version_major": 2,
              "version_minor": 0,
              "model_id": "7c7eb1049fdf456f83dd3ca88d8045a9"
            }
          },
          "metadata": {}
        },
        {
          "output_type": "execute_result",
          "data": {
            "text/plain": [
              "0                                        [, , komentar]\n",
              "1     [bijak, mbkm, transformasi, besar, dalam, duni...\n",
              "2     [linkedin, engineer, traveloka, banyak, gradua...\n",
              "3                           [mbkm, energi, emang, asik]\n",
              "4     [prodi, kemarin, dijelasin, kalau, coba, prakt...\n",
              "5     [habis, magang, mbkm, makin, pede, ngelamar, b...\n",
              "6     [pernah, ikut, mbkm, uang, saku, telat, dibaya...\n",
              "7     [duga, daftar, open, recruitment, sedikit, org...\n",
              "8                                  [drama, mbkm, lelah]\n",
              "9     [ribet, mbkm, anak, fikes, susah, urus, konver...\n",
              "10                                [goblog, mbkm, beban]\n",
              "Name: tweet_tokens_stemmed, dtype: object"
            ]
          },
          "metadata": {},
          "execution_count": 14
        }
      ]
    },
    {
      "cell_type": "markdown",
      "source": [
        "Menyimpan data hasil preprocessing kedalam file csv"
      ],
      "metadata": {
        "id": "_4eA1kZFBmIS"
      }
    },
    {
      "cell_type": "code",
      "source": [
        "# Save ke CSV\n",
        "TWEET_DATA.to_csv(\"DataSamplePython_Prepro.csv\")"
      ],
      "metadata": {
        "id": "HL3d7JjG7oAK"
      },
      "execution_count": null,
      "outputs": []
    }
  ]
}